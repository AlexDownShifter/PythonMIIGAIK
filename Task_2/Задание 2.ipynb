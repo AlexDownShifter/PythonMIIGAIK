{
 "cells": [
  {
   "cell_type": "code",
   "execution_count": 6,
   "metadata": {
    "scrolled": true
   },
   "outputs": [
    {
     "name": "stdout",
     "output_type": "stream",
     "text": [
      "Введите имя пользователя Алексей\n",
      "Привет, Алексей!\n"
     ]
    }
   ],
   "source": [
    "#Задача 1\n",
    "Name=str(input('Введите имя пользователя '))\n",
    "print('Привет, '+Name+'!')"
   ]
  },
  {
   "cell_type": "code",
   "execution_count": 9,
   "metadata": {},
   "outputs": [
    {
     "name": "stdout",
     "output_type": "stream",
     "text": [
      "1048576\n"
     ]
    }
   ],
   "source": [
    "#Задача 2\n",
    "print(2**20)"
   ]
  },
  {
   "cell_type": "code",
   "execution_count": 11,
   "metadata": {},
   "outputs": [
    {
     "name": "stdout",
     "output_type": "stream",
     "text": [
      "1 Катет=3\n",
      "2 Катет=4\n",
      "5.0\n"
     ]
    }
   ],
   "source": [
    "#Задача 3\n",
    "k1=float(input('1 Катет='))\n",
    "k2=float(input('2 Катет='))\n",
    "print((k1**2+k2**2)**0.5)"
   ]
  },
  {
   "cell_type": "code",
   "execution_count": 12,
   "metadata": {},
   "outputs": [
    {
     "name": "stdout",
     "output_type": "stream",
     "text": [
      "Кол-во школьников=3\n",
      "Кол-во яблок=14\n",
      "4\n"
     ]
    }
   ],
   "source": [
    "#Задача 4\n",
    "n=int(input('Кол-во школьников='))\n",
    "k=int(input('Кол-во яблок='))\n",
    "print(k//n) "
   ]
  },
  {
   "cell_type": "code",
   "execution_count": null,
   "metadata": {},
   "outputs": [],
   "source": []
  },
  {
   "cell_type": "code",
   "execution_count": 7,
   "metadata": {},
   "outputs": [
    {
     "name": "stdout",
     "output_type": "stream",
     "text": [
      "Введите число5\n",
      "Получено число - 5\n",
      "Следующие число - 6, предыдущее число - 4\n"
     ]
    }
   ],
   "source": [
    "#Задача 5\n",
    "digit=int(input('Введите число'))\n",
    "print('Получено число -',digit)\n",
    "print('Следующие число - ',digit+1,', предыдущее число - ',digit-1,sep='')"
   ]
  },
  {
   "cell_type": "code",
   "execution_count": 9,
   "metadata": {},
   "outputs": [
    {
     "name": "stdout",
     "output_type": "stream",
     "text": [
      "8\n",
      "10\n"
     ]
    }
   ],
   "source": [
    "#Задача 6\n",
    "digit=int(input())\n",
    "a=int()\n",
    "a=digit%2\n",
    "print(digit+2-a*1)\n"
   ]
  },
  {
   "cell_type": "code",
   "execution_count": 1,
   "metadata": {},
   "outputs": [
    {
     "name": "stdout",
     "output_type": "stream",
     "text": [
      "456\n",
      "15\n"
     ]
    }
   ],
   "source": [
    "#Задача 7\n",
    "n=int(input())\n",
    "s=0\n",
    "while n>0:\n",
    "    s=s+n%10\n",
    "    n=n//10\n",
    "print(s)"
   ]
  },
  {
   "cell_type": "code",
   "execution_count": 1,
   "metadata": {},
   "outputs": [
    {
     "name": "stdout",
     "output_type": "stream",
     "text": [
      "4\n",
      "1\n",
      "2\n",
      "3\n",
      "4\n",
      "2\n",
      "hola!\n",
      "[1, 2, 3, 4]\n",
      "[1, 'hola!', 2, 3, 4]\n"
     ]
    }
   ],
   "source": [
    "#Задача 8\n",
    "n=int(input())\n",
    "sp=[]\n",
    "for i in range(n):\n",
    "    sp.append(int(input()))\n",
    "k=int(input())\n",
    "new=input()\n",
    "print(sp)\n",
    "sp1=sp[:(k-1)]\n",
    "sp1.append(new)\n",
    "sp1=sp1+sp[(k-1):]\n",
    "print(sp1)"
   ]
  },
  {
   "cell_type": "code",
   "execution_count": 4,
   "metadata": {},
   "outputs": [
    {
     "name": "stdout",
     "output_type": "stream",
     "text": [
      "5\n",
      "1\n",
      "2\n",
      "3\n",
      "4\n",
      "5\n",
      "[1, 3, 5]\n"
     ]
    }
   ],
   "source": [
    "#Задача 9\n",
    "n=int(input())\n",
    "sp=[]\n",
    "for i in range(n):\n",
    "    sp.append(int(input()))\n",
    "sp1=sp[::2]\n",
    "print(sp1)"
   ]
  },
  {
   "cell_type": "code",
   "execution_count": 22,
   "metadata": {},
   "outputs": [
    {
     "name": "stdout",
     "output_type": "stream",
     "text": [
      "2\n",
      "5\n",
      "2 3 4 5 "
     ]
    }
   ],
   "source": [
    "#Задача 10\n",
    "n=int(input())\n",
    "m=int(input())\n",
    "o=''\n",
    "if n<=m:\n",
    "    for i in range(n,m+1):\n",
    "        print(i, end=' ')"
   ]
  },
  {
   "cell_type": "code",
   "execution_count": 25,
   "metadata": {},
   "outputs": [
    {
     "name": "stdout",
     "output_type": "stream",
     "text": [
      "3.1317889675734545\n"
     ]
    }
   ],
   "source": [
    "#Задача 11\n",
    "pi=1\n",
    "k=1\n",
    "z=-1\n",
    "for i in range(101):\n",
    "    if z==-1:\n",
    "        pi=pi-1/(k+2)\n",
    "        k+=2\n",
    "        z=z*-1\n",
    "    else:\n",
    "        pi=pi+1/(k+2)\n",
    "        k+=2\n",
    "        z=z*-1\n",
    "print(pi*4)"
   ]
  },
  {
   "cell_type": "code",
   "execution_count": 15,
   "metadata": {},
   "outputs": [
    {
     "name": "stdout",
     "output_type": "stream",
     "text": [
      "4\n",
      "[1, 2, 3, 4]\n"
     ]
    },
    {
     "ename": "IndexError",
     "evalue": "list index out of range",
     "output_type": "error",
     "traceback": [
      "\u001b[1;31m---------------------------------------------------------------------------\u001b[0m",
      "\u001b[1;31mIndexError\u001b[0m                                Traceback (most recent call last)",
      "\u001b[1;32m<ipython-input-15-c98c9e96dd9f>\u001b[0m in \u001b[0;36m<module>\u001b[1;34m()\u001b[0m\n\u001b[0;32m      8\u001b[0m \u001b[1;32mfor\u001b[0m \u001b[0mi\u001b[0m \u001b[1;32min\u001b[0m \u001b[0mrange\u001b[0m\u001b[1;33m(\u001b[0m\u001b[1;36m1\u001b[0m\u001b[1;33m,\u001b[0m\u001b[0mlen\u001b[0m\u001b[1;33m(\u001b[0m\u001b[0mn\u001b[0m\u001b[1;33m)\u001b[0m\u001b[1;33m)\u001b[0m\u001b[1;33m:\u001b[0m\u001b[1;33m\u001b[0m\u001b[0m\n\u001b[0;32m      9\u001b[0m     \u001b[0ma\u001b[0m\u001b[1;33m=\u001b[0m\u001b[0mn\u001b[0m\u001b[1;33m[\u001b[0m\u001b[0mi\u001b[0m\u001b[1;33m]\u001b[0m\u001b[1;33m\u001b[0m\u001b[0m\n\u001b[1;32m---> 10\u001b[1;33m     \u001b[0mb\u001b[0m\u001b[1;33m=\u001b[0m\u001b[0mn\u001b[0m\u001b[1;33m[\u001b[0m\u001b[0mi\u001b[0m\u001b[1;33m+\u001b[0m\u001b[1;36m1\u001b[0m\u001b[1;33m]\u001b[0m\u001b[1;33m\u001b[0m\u001b[0m\n\u001b[0m\u001b[0;32m     11\u001b[0m     \u001b[0mn\u001b[0m\u001b[1;33m[\u001b[0m\u001b[0mi\u001b[0m\u001b[1;33m]\u001b[0m\u001b[1;33m=\u001b[0m\u001b[0mb\u001b[0m\u001b[1;33m\u001b[0m\u001b[0m\n\u001b[0;32m     12\u001b[0m     \u001b[0mn\u001b[0m\u001b[1;33m[\u001b[0m\u001b[0mi\u001b[0m\u001b[1;33m-\u001b[0m\u001b[1;36m1\u001b[0m\u001b[1;33m]\u001b[0m\u001b[1;33m=\u001b[0m\u001b[0ma\u001b[0m\u001b[1;33m\u001b[0m\u001b[0m\n",
      "\u001b[1;31mIndexError\u001b[0m: list index out of range"
     ]
    }
   ],
   "source": [
    "#Задача 12\n",
    "n=int(input())\n",
    "sp=list(range(1, n+1))\n",
    "print(sp)\n",
    "n=sp\n",
    "a=0\n",
    "b=0\n",
    "for i in range(1,len(n)):\n",
    "    a=n[i]\n",
    "    b=n[i+1]\n",
    "    n[i]=b\n",
    "    n[i-1]=a  \n",
    "print(n)\n",
    "    \n"
   ]
  },
  {
   "cell_type": "code",
   "execution_count": 7,
   "metadata": {},
   "outputs": [
    {
     "name": "stdout",
     "output_type": "stream",
     "text": [
      "4\n",
      "4\n"
     ]
    }
   ],
   "source": []
  },
  {
   "cell_type": "code",
   "execution_count": 24,
   "metadata": {},
   "outputs": [
    {
     "name": "stdout",
     "output_type": "stream",
     "text": [
      "3\n",
      "* * *\n",
      "* * *\n",
      "* * *\n"
     ]
    }
   ],
   "source": [
    "#Задача 13\n",
    "n = int(input())\n",
    "j,t = int(n-1),int((n-1)/2)\n",
    "a = [['.'] * t + ['*'] + ['.'] * t for i in range(n)]\n",
    "a[t] = ['*'] * n\n",
    "for i in range(n):\n",
    "    a[i][i] = '*'\n",
    "    a[j][i] = '*'\n",
    "    j -= 1\n",
    "for row in a:\n",
    "    print(' '.join([str(elem) for elem in row]))"
   ]
  },
  {
   "cell_type": "code",
   "execution_count": 29,
   "metadata": {},
   "outputs": [
    {
     "name": "stdout",
     "output_type": "stream",
     "text": [
      "2\n",
      "3\n",
      "[range(0, 3), range(0, 3)]\n"
     ]
    }
   ],
   "source": [
    "#Задача 14\n",
    "a=int(input())\n",
    "b=int(input())\n",
    "M=[]\n",
    "for i in range(a):\n",
    "    M.append(range(b))\n",
    "print(M)"
   ]
  },
  {
   "cell_type": "code",
   "execution_count": null,
   "metadata": {},
   "outputs": [],
   "source": []
  }
 ],
 "metadata": {
  "kernelspec": {
   "display_name": "Python 3",
   "language": "python",
   "name": "python3"
  },
  "language_info": {
   "codemirror_mode": {
    "name": "ipython",
    "version": 3
   },
   "file_extension": ".py",
   "mimetype": "text/x-python",
   "name": "python",
   "nbconvert_exporter": "python",
   "pygments_lexer": "ipython3",
   "version": "3.7.0"
  }
 },
 "nbformat": 4,
 "nbformat_minor": 2
}
